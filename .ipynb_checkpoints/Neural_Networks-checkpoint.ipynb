{
 "cells": [
  {
   "cell_type": "markdown",
   "metadata": {},
   "source": [
    "# Neural Networks\n",
    "\n",
    "### What is it?\n",
    "Neural networks is a class of models in machine learning. The algorithms are inspired and designed to mimic biological neural networks. Some of these models have proven to be quite effective in image recognition for example.\n",
    "\n",
    "\n",
    "### When to use it?\n",
    "When a lot of data is available, neural networks can be a good choice as it continues to get better the more data you give it while many other techniques level off after a time. Since nerual networks output gets better with more data, even though it can be time expensive, it should be considered when accuracy is most important like in health and safety issues. \n",
    "\n",
    "\n",
    "### Limitations?\n",
    "1. Like SVM there is a black box aspect of neural networks in that you don't know why the model produced any individual output.\n",
    "2. When developing an new neural network algorithm it is very time intensive and the problem could possible be solved by an algorithm that takes less time.\n",
    "3. Neural networks require significantly more data to train that most other machine learning techniques. That is as much as millions of labeled data points.\n",
    "4. Very time expensive to train.\n",
    "\n",
    "\n",
    "For definition of statistics terms visit: http://www.nedarc.org/statisticalHelp/statisticalTermsDictionary.html\n",
    "For definitions of machine learning terms visit: https://developers.google.com/machine-learning/glossary/"
   ]
  },
  {
   "cell_type": "code",
   "execution_count": null,
   "metadata": {},
   "outputs": [],
   "source": [
    "# Dependencies\n",
    "import matplotlib.pyplot as plt\n",
    "%matplotlib inline\n",
    "\n",
    "import os\n",
    "import numpy as np\n",
    "import tensorflow as tf\n",
    "\n",
    "import keras\n",
    "from keras.preprocessing import image\n",
    "from keras.applications.xception import (\n",
    "    Xception, preprocess_input, decode_predictions)"
   ]
  },
  {
   "cell_type": "code",
   "execution_count": null,
   "metadata": {
    "scrolled": true
   },
   "outputs": [],
   "source": [
    "# Load the Xception model\n",
    "# https://keras.io/applications/#xception\n",
    "model = Xception(\n",
    "    include_top=True,\n",
    "    weights='imagenet')"
   ]
  },
  {
   "cell_type": "code",
   "execution_count": null,
   "metadata": {},
   "outputs": [],
   "source": [
    "# Default Image Size for Xception\n",
    "image_size = (299, 299)"
   ]
  },
  {
   "cell_type": "code",
   "execution_count": null,
   "metadata": {},
   "outputs": [],
   "source": [
    "# Load the image and resize to the input dimensions that Xception\n",
    "#use kitten.jpg or pup.jpg\n",
    "# was trained with\n",
    "image_path = os.path.join(\"..\", \"Images\", \"kitten.jpg\")\n",
    "img = image.load_img(image_path, target_size=image_size)\n",
    "plt.imshow(img)"
   ]
  },
  {
   "cell_type": "code",
   "execution_count": null,
   "metadata": {},
   "outputs": [],
   "source": [
    "# Preprocess image for model prediction\n",
    "# This step handles scaling and normalization for Xception\n",
    "x = image.img_to_array(img)\n",
    "x = np.expand_dims(x, axis=0)\n",
    "x = preprocess_input(x)"
   ]
  },
  {
   "cell_type": "code",
   "execution_count": null,
   "metadata": {},
   "outputs": [],
   "source": [
    "# Make predictions\n",
    "predictions = model.predict(x)\n",
    "print('Predicted:', decode_predictions(predictions, top=3)[0])\n",
    "plt.imshow(img)"
   ]
  },
  {
   "cell_type": "code",
   "execution_count": null,
   "metadata": {},
   "outputs": [],
   "source": [
    "# Refactor above steps into reusable function\n",
    "def predict(image_path):\n",
    "    \"\"\"Use Xception to label image\"\"\"\n",
    "    img = image.load_img(image_path, target_size=image_size)\n",
    "    x = image.img_to_array(img)\n",
    "    x = np.expand_dims(x, axis=0)\n",
    "    x = preprocess_input(x)\n",
    "    predictions = model.predict(x)\n",
    "    plt.imshow(img)\n",
    "    print('Predicted:', decode_predictions(predictions, top=3)[0])"
   ]
  },
  {
   "cell_type": "code",
   "execution_count": null,
   "metadata": {},
   "outputs": [],
   "source": [
    "\n",
    "#randomly selected images on Google\n",
    "# use sloth.jpg, pig.jpg, gorilla.jpg, lamb.jpg, llama.jpg, squirrel.jpg\n",
    "\n",
    "image_path = os.path.join(\"..\", \"Images\", \"sloth.jpg\")\n",
    "predict(image_path)"
   ]
  },
  {
   "cell_type": "code",
   "execution_count": null,
   "metadata": {},
   "outputs": [],
   "source": []
  },
  {
   "cell_type": "code",
   "execution_count": null,
   "metadata": {},
   "outputs": [],
   "source": []
  },
  {
   "cell_type": "code",
   "execution_count": null,
   "metadata": {},
   "outputs": [],
   "source": []
  },
  {
   "cell_type": "code",
   "execution_count": null,
   "metadata": {},
   "outputs": [],
   "source": []
  }
 ],
 "metadata": {
  "kernelspec": {
   "display_name": "Python 3",
   "language": "python",
   "name": "python3"
  },
  "language_info": {
   "codemirror_mode": {
    "name": "ipython",
    "version": 3
   },
   "file_extension": ".py",
   "mimetype": "text/x-python",
   "name": "python",
   "nbconvert_exporter": "python",
   "pygments_lexer": "ipython3",
   "version": "3.6.5"
  }
 },
 "nbformat": 4,
 "nbformat_minor": 2
}
