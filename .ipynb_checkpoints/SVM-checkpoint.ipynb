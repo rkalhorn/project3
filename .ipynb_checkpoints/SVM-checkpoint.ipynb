{
 "cells": [
  {
   "cell_type": "markdown",
   "metadata": {},
   "source": [
    "# Support Vector Machine (SVM)\n",
    "\n",
    "### What is it?\n",
    "SVM is a supervised machine learning model used for classification and regression. From what we have found it is mostly used for classification. This algorithm separates data based on categories or outputs the user defines.\n",
    "\n",
    "### When to use it?\n",
    "Thanksome say it is the best algorithm to use. Compared to other algorithms SVM is particulary good in the following situations.\n",
    "1. When the number of features (variables) and number of training data observations are both very large (e.g. millions of features and millions of instances).\n",
    "2) When sparsity in the problem is very high (e.g. most of the features have zero value).\n",
    "It is often used for image classification, gene classsification, drug disambiguation\n",
    "\n",
    "\n",
    "### Limitations?\n",
    "1. Can be hard to understand exactly what is going on with SVM. It is sometimes called a black box. \n",
    "2. It does not give probabilities.\n",
    "3. Can be cumberson for multiclass problems.\n",
    "4. Choosing a good kernel function is difficult.\n",
    "\n",
    "\n",
    "#### For definition of statistics terms visit: http://www.nedarc.org/statisticalHelp/statisticalTermsDictionary.html\n",
    "#### For definitions of machine learning terms visit: https://developers.google.com/machine-learning/glossary/"
   ]
  }
 ],
 "metadata": {
  "kernelspec": {
   "display_name": "Python 3",
   "language": "python",
   "name": "python3"
  },
  "language_info": {
   "codemirror_mode": {
    "name": "ipython",
    "version": 3
   },
   "file_extension": ".py",
   "mimetype": "text/x-python",
   "name": "python",
   "nbconvert_exporter": "python",
   "pygments_lexer": "ipython3",
   "version": "3.6.5"
  }
 },
 "nbformat": 4,
 "nbformat_minor": 2
}
