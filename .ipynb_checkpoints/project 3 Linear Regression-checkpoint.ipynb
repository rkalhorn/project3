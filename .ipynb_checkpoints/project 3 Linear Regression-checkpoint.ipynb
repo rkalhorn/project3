{
 "cells": [
  {
   "cell_type": "code",
   "execution_count": 2,
   "metadata": {},
   "outputs": [],
   "source": [
    "#Bring in dependencies\n",
    "# %matplotlib inline\n",
    "import matplotlib.pyplot as plt\n",
    "import numpy as np\n",
    "import pandas as pd\n",
    "from sklearn.linear_model import LinearRegression\n",
    "from sklearn.model_selection import train_test_split\n",
    "from sklearn.preprocessing import StandardScaler\n",
    "from sklearn.metrics import mean_squared_error, r2_score"
   ]
  },
  {
   "cell_type": "code",
   "execution_count": 3,
   "metadata": {
    "scrolled": false
   },
   "outputs": [
    {
     "data": {
      "text/html": [
       "<div>\n",
       "<style scoped>\n",
       "    .dataframe tbody tr th:only-of-type {\n",
       "        vertical-align: middle;\n",
       "    }\n",
       "\n",
       "    .dataframe tbody tr th {\n",
       "        vertical-align: top;\n",
       "    }\n",
       "\n",
       "    .dataframe thead th {\n",
       "        text-align: right;\n",
       "    }\n",
       "</style>\n",
       "<table border=\"1\" class=\"dataframe\">\n",
       "  <thead>\n",
       "    <tr style=\"text-align: right;\">\n",
       "      <th></th>\n",
       "      <th>Unnamed: 0</th>\n",
       "      <th>title</th>\n",
       "      <th>budget</th>\n",
       "      <th>revenue</th>\n",
       "      <th>release_date</th>\n",
       "      <th>runtime</th>\n",
       "      <th>original_language</th>\n",
       "      <th>production_companies</th>\n",
       "      <th>production_countries</th>\n",
       "      <th>genres</th>\n",
       "      <th>spoken_languages</th>\n",
       "      <th>id</th>\n",
       "      <th>imdb_id</th>\n",
       "      <th>vote_average</th>\n",
       "      <th>vote_count</th>\n",
       "      <th>log rev</th>\n",
       "    </tr>\n",
       "  </thead>\n",
       "  <tbody>\n",
       "    <tr>\n",
       "      <th>0</th>\n",
       "      <td>24078</td>\n",
       "      <td>Atlas Shrugged Part III: Who is John Galt?</td>\n",
       "      <td>5000000</td>\n",
       "      <td>846704</td>\n",
       "      <td>9/12/2014</td>\n",
       "      <td>99</td>\n",
       "      <td>en</td>\n",
       "      <td>[{'name': 'Atlas 3 Productions', 'id': 67480}]</td>\n",
       "      <td>[{'iso_3166_1': 'US', 'name': 'United States o...</td>\n",
       "      <td>[{'id': 18, 'name': 'Drama'}, {'id': 878, 'nam...</td>\n",
       "      <td>[{'iso_639_1': 'en', 'name': 'English'}]</td>\n",
       "      <td>199933</td>\n",
       "      <td>tt2800038</td>\n",
       "      <td>3.9</td>\n",
       "      <td>15</td>\n",
       "      <td>13.649106</td>\n",
       "    </tr>\n",
       "    <tr>\n",
       "      <th>1</th>\n",
       "      <td>16483</td>\n",
       "      <td>It's Alive</td>\n",
       "      <td>11000000</td>\n",
       "      <td>15500000</td>\n",
       "      <td>8/15/2008</td>\n",
       "      <td>80</td>\n",
       "      <td>en</td>\n",
       "      <td>[{'name': 'Alive Productions', 'id': 4451}, {'...</td>\n",
       "      <td>[{'iso_3166_1': 'US', 'name': 'United States o...</td>\n",
       "      <td>[{'id': 27, 'name': 'Horror'}]</td>\n",
       "      <td>[{'iso_639_1': 'en', 'name': 'English'}]</td>\n",
       "      <td>23174</td>\n",
       "      <td>tt1172060</td>\n",
       "      <td>4.0</td>\n",
       "      <td>15</td>\n",
       "      <td>16.556351</td>\n",
       "    </tr>\n",
       "    <tr>\n",
       "      <th>2</th>\n",
       "      <td>35723</td>\n",
       "      <td>Raavan</td>\n",
       "      <td>4500000</td>\n",
       "      <td>4200000</td>\n",
       "      <td>6/18/2010</td>\n",
       "      <td>138</td>\n",
       "      <td>hi</td>\n",
       "      <td>[{'name': 'Madras Talkies', 'id': 3118}, {'nam...</td>\n",
       "      <td>[{'iso_3166_1': 'IN', 'name': 'India'}]</td>\n",
       "      <td>[{'id': 28, 'name': 'Action'}, {'id': 12, 'nam...</td>\n",
       "      <td>[{'iso_639_1': 'hi', 'name': 'हिन्दी'}]</td>\n",
       "      <td>37460</td>\n",
       "      <td>tt1334470</td>\n",
       "      <td>4.2</td>\n",
       "      <td>15</td>\n",
       "      <td>15.250595</td>\n",
       "    </tr>\n",
       "    <tr>\n",
       "      <th>3</th>\n",
       "      <td>7017</td>\n",
       "      <td>My Baby's Daddy</td>\n",
       "      <td>0</td>\n",
       "      <td>51</td>\n",
       "      <td>1/9/2004</td>\n",
       "      <td>86</td>\n",
       "      <td>en</td>\n",
       "      <td>[]</td>\n",
       "      <td>[{'iso_3166_1': 'US', 'name': 'United States o...</td>\n",
       "      <td>[{'id': 35, 'name': 'Comedy'}]</td>\n",
       "      <td>[{'iso_639_1': 'en', 'name': 'English'}]</td>\n",
       "      <td>26710</td>\n",
       "      <td>tt0332712</td>\n",
       "      <td>4.3</td>\n",
       "      <td>15</td>\n",
       "      <td>3.931826</td>\n",
       "    </tr>\n",
       "    <tr>\n",
       "      <th>4</th>\n",
       "      <td>43533</td>\n",
       "      <td>Nasha Russia: Yaytsa sudby</td>\n",
       "      <td>2000000</td>\n",
       "      <td>22212223</td>\n",
       "      <td>1/21/2010</td>\n",
       "      <td>85</td>\n",
       "      <td>en</td>\n",
       "      <td>[]</td>\n",
       "      <td>[{'iso_3166_1': 'RU', 'name': 'Russia'}]</td>\n",
       "      <td>[]</td>\n",
       "      <td>[{'iso_639_1': 'ru', 'name': 'Pусский'}]</td>\n",
       "      <td>31059</td>\n",
       "      <td>tt1569465</td>\n",
       "      <td>4.6</td>\n",
       "      <td>15</td>\n",
       "      <td>16.916153</td>\n",
       "    </tr>\n",
       "  </tbody>\n",
       "</table>\n",
       "</div>"
      ],
      "text/plain": [
       "   Unnamed: 0                                       title    budget   revenue  \\\n",
       "0       24078  Atlas Shrugged Part III: Who is John Galt?   5000000    846704   \n",
       "1       16483                                  It's Alive  11000000  15500000   \n",
       "2       35723                                      Raavan   4500000   4200000   \n",
       "3        7017                             My Baby's Daddy         0        51   \n",
       "4       43533                  Nasha Russia: Yaytsa sudby   2000000  22212223   \n",
       "\n",
       "  release_date  runtime original_language  \\\n",
       "0    9/12/2014       99                en   \n",
       "1    8/15/2008       80                en   \n",
       "2    6/18/2010      138                hi   \n",
       "3     1/9/2004       86                en   \n",
       "4    1/21/2010       85                en   \n",
       "\n",
       "                                production_companies  \\\n",
       "0     [{'name': 'Atlas 3 Productions', 'id': 67480}]   \n",
       "1  [{'name': 'Alive Productions', 'id': 4451}, {'...   \n",
       "2  [{'name': 'Madras Talkies', 'id': 3118}, {'nam...   \n",
       "3                                                 []   \n",
       "4                                                 []   \n",
       "\n",
       "                                production_countries  \\\n",
       "0  [{'iso_3166_1': 'US', 'name': 'United States o...   \n",
       "1  [{'iso_3166_1': 'US', 'name': 'United States o...   \n",
       "2            [{'iso_3166_1': 'IN', 'name': 'India'}]   \n",
       "3  [{'iso_3166_1': 'US', 'name': 'United States o...   \n",
       "4           [{'iso_3166_1': 'RU', 'name': 'Russia'}]   \n",
       "\n",
       "                                              genres  \\\n",
       "0  [{'id': 18, 'name': 'Drama'}, {'id': 878, 'nam...   \n",
       "1                     [{'id': 27, 'name': 'Horror'}]   \n",
       "2  [{'id': 28, 'name': 'Action'}, {'id': 12, 'nam...   \n",
       "3                     [{'id': 35, 'name': 'Comedy'}]   \n",
       "4                                                 []   \n",
       "\n",
       "                           spoken_languages      id    imdb_id  vote_average  \\\n",
       "0  [{'iso_639_1': 'en', 'name': 'English'}]  199933  tt2800038           3.9   \n",
       "1  [{'iso_639_1': 'en', 'name': 'English'}]   23174  tt1172060           4.0   \n",
       "2   [{'iso_639_1': 'hi', 'name': 'हिन्दी'}]   37460  tt1334470           4.2   \n",
       "3  [{'iso_639_1': 'en', 'name': 'English'}]   26710  tt0332712           4.3   \n",
       "4  [{'iso_639_1': 'ru', 'name': 'Pусский'}]   31059  tt1569465           4.6   \n",
       "\n",
       "   vote_count    log rev  \n",
       "0          15  13.649106  \n",
       "1          15  16.556351  \n",
       "2          15  15.250595  \n",
       "3          15   3.931826  \n",
       "4          15  16.916153  "
      ]
     },
     "execution_count": 3,
     "metadata": {},
     "output_type": "execute_result"
    }
   ],
   "source": [
    "#Import the data\n",
    "temp = pd.read_csv('temp.csv')\n",
    "temp.head()"
   ]
  },
  {
   "cell_type": "markdown",
   "metadata": {},
   "source": [
    "#Linear Regression Revenue Independent and Vote Average as Dependent"
   ]
  },
  {
   "cell_type": "code",
   "execution_count": 18,
   "metadata": {},
   "outputs": [
    {
     "name": "stdout",
     "output_type": "stream",
     "text": [
      "         revenue\n",
      "0         846704\n",
      "1       15500000\n",
      "2        4200000\n",
      "3             51\n",
      "4       22212223\n",
      "5        5217498\n",
      "6       22424195\n",
      "7           2970\n",
      "8         852336\n",
      "9         120680\n",
      "10          8500\n",
      "11        884100\n",
      "12      10000000\n",
      "13       4594452\n",
      "14      19010585\n",
      "15      45000000\n",
      "16      24854765\n",
      "17       6045657\n",
      "18       7467504\n",
      "19       9000000\n",
      "20        729043\n",
      "21      19104350\n",
      "22      12000000\n",
      "23      15000000\n",
      "24        221295\n",
      "25        960040\n",
      "26            44\n",
      "27      12212123\n",
      "28      12890752\n",
      "29        135893\n",
      "...          ...\n",
      "6472   630161890\n",
      "6473  1153304495\n",
      "6474   374218673\n",
      "6475   926287400\n",
      "6476   745600054\n",
      "6477  1108561013\n",
      "6478  1845034188\n",
      "6479  2068223624\n",
      "6480   677945399\n",
      "6481  1118888979\n",
      "6482    28341469\n",
      "6483  1021103568\n",
      "6484   213928762\n",
      "6485  1513528810\n",
      "6486   871368364\n",
      "6487  1215439994\n",
      "6488   585174222\n",
      "6489   463517383\n",
      "6490  1084939099\n",
      "6491   378858340\n",
      "6492   691210692\n",
      "6493   100853753\n",
      "6494   773328629\n",
      "6495   425368238\n",
      "6496   675120017\n",
      "6497   783112979\n",
      "6498  1519557910\n",
      "6499  2787965087\n",
      "6500  1004558444\n",
      "6501   825532764\n",
      "\n",
      "[6502 rows x 1 columns]\n",
      "(6502, 1) (6502, 1)\n"
     ]
    }
   ],
   "source": [
    "#Define X as revenue and y as vote_average\n",
    "X = temp[[\"revenue\"]]\n",
    "y = temp[[\"vote_average\"]]\n",
    "print(X)\n",
    "print(X.shape, y.shape)"
   ]
  },
  {
   "cell_type": "code",
   "execution_count": 7,
   "metadata": {
    "scrolled": false
   },
   "outputs": [
    {
     "data": {
      "text/html": [
       "<div>\n",
       "<style scoped>\n",
       "    .dataframe tbody tr th:only-of-type {\n",
       "        vertical-align: middle;\n",
       "    }\n",
       "\n",
       "    .dataframe tbody tr th {\n",
       "        vertical-align: top;\n",
       "    }\n",
       "\n",
       "    .dataframe thead th {\n",
       "        text-align: right;\n",
       "    }\n",
       "</style>\n",
       "<table border=\"1\" class=\"dataframe\">\n",
       "  <thead>\n",
       "    <tr style=\"text-align: right;\">\n",
       "      <th></th>\n",
       "      <th>revenue</th>\n",
       "    </tr>\n",
       "  </thead>\n",
       "  <tbody>\n",
       "    <tr>\n",
       "      <th>6105</th>\n",
       "      <td>363164265</td>\n",
       "    </tr>\n",
       "    <tr>\n",
       "      <th>4350</th>\n",
       "      <td>52302796</td>\n",
       "    </tr>\n",
       "    <tr>\n",
       "      <th>2227</th>\n",
       "      <td>4187</td>\n",
       "    </tr>\n",
       "    <tr>\n",
       "      <th>3357</th>\n",
       "      <td>40577001</td>\n",
       "    </tr>\n",
       "    <tr>\n",
       "      <th>1539</th>\n",
       "      <td>34505110</td>\n",
       "    </tr>\n",
       "  </tbody>\n",
       "</table>\n",
       "</div>"
      ],
      "text/plain": [
       "        revenue\n",
       "6105  363164265\n",
       "4350   52302796\n",
       "2227       4187\n",
       "3357   40577001\n",
       "1539   34505110"
      ]
     },
     "execution_count": 7,
     "metadata": {},
     "output_type": "execute_result"
    }
   ],
   "source": [
    "#Split data into traning and testing data\n",
    "X_train, X_test, y_train, y_test = train_test_split(X, y, random_state=42)\n",
    "\n",
    "X_train.head()"
   ]
  },
  {
   "cell_type": "code",
   "execution_count": 8,
   "metadata": {},
   "outputs": [],
   "source": [
    "#Get Normalized Data\n",
    "\n",
    "#X_scaler = StandardScaler().fit(X_train)\n",
    "y_scaler = StandardScaler().fit(y_train)\n",
    "\n",
    "X_train_log = np.log1p(X_train)\n",
    "X_test_log = np.log1p(X_test)\n",
    "#X_train_scaled = X_scaler.transform(X_train)\n",
    "#X_test_scaled = X_scaler.transform(X_test)\n",
    "y_train_scaled = y_scaler.transform(y_train)\n",
    "y_test_scaled = y_scaler.transform(y_test)\n",
    "\n"
   ]
  },
  {
   "cell_type": "code",
   "execution_count": 39,
   "metadata": {},
   "outputs": [
    {
     "data": {
      "text/plain": [
       "<function matplotlib.pyplot.show(*args, **kw)>"
      ]
     },
     "execution_count": 39,
     "metadata": {},
     "output_type": "execute_result"
    },
    {
     "data": {
      "image/png": "[encoded data removed]",
      "text/plain": [
       "<Figure size 432x288 with 4 Axes>"
      ]
     },
     "metadata": {},
     "output_type": "display_data"
    }
   ],
   "source": [
    "#Look at data\n",
    "\n",
    "\n",
    "plt.subplot(321)\n",
    "plt.hist(y_train, bins=20)\n",
    "plt.title(\"Original Average Vote\")\n",
    "\n",
    "plt.subplot(322)\n",
    "plt.hist(y_train_scaled, bins=20)\n",
    "plt.title(\"Scaled Average Vote\")\n",
    "\n",
    "plt.subplot(325)\n",
    "plt.hist(X_train.values, bins=20)\n",
    "plt.title(\"Original Revenue\")\n",
    "\n",
    "plt.subplot(326)\n",
    "plt.hist(X_train_log.values, bins=20)\n",
    "plt.title(\"Scaled Revenue\")\n",
    "\n",
    "\n",
    "plt.show\n"
   ]
  },
  {
   "cell_type": "code",
   "execution_count": 40,
   "metadata": {},
   "outputs": [
    {
     "data": {
      "text/plain": [
       "<matplotlib.collections.PathCollection at 0x2160624c860>"
      ]
     },
     "execution_count": 40,
     "metadata": {},
     "output_type": "execute_result"
    },
    {
     "data": {
      "image/png": "[encoded data removed]",
      "text/plain": [
       "<Figure size 864x432 with 2 Axes>"
      ]
     },
     "metadata": {},
     "output_type": "display_data"
    }
   ],
   "source": [
    "fig1 = plt.figure(figsize=(12, 6))\n",
    "axes1 = fig1.add_subplot(1, 2, 1)\n",
    "axes2 = fig1.add_subplot(1, 2, 2)\n",
    "\n",
    "axes1.set_title(\"Original Data\")\n",
    "axes2.set_title(\"Scaled Data\")\n",
    "\n",
    "maxx = X_train[\"revenue\"].max()\n",
    "maxy = y_train.max()\n",
    "\n",
    "\n",
    "def set_axes(ax):\n",
    "    ax.spines['left'].set_position('center')\n",
    "    ax.spines['right'].set_color('none')\n",
    "    ax.spines['bottom'].set_position('center')\n",
    "    ax.spines['top'].set_color('none')\n",
    "    ax.xaxis.set_ticks_position('bottom')\n",
    "    ax.yaxis.set_ticks_position('left')\n",
    "    \n",
    "set_axes(axes1)\n",
    "set_axes(axes1)\n",
    "\n",
    "axes1.scatter(X_train[\"revenue\"], y_train)\n",
    "axes2.scatter(X_train_log[\"revenue\"], y_train_scaled)"
   ]
  },
  {
   "cell_type": "code",
   "execution_count": 44,
   "metadata": {
    "scrolled": true
   },
   "outputs": [
    {
     "name": "stdout",
     "output_type": "stream",
     "text": [
      "**********Original Data*************\n",
      "MSE: 0.7151578735568813, R2: 0.011860417131868584\n",
      "**********Normalized Data*************\n",
      "MSE: 0.98134743103089, R2: 0.004898397104182273\n"
     ]
    },
    {
     "data": {
      "image/png": "[encoded data removed]",
      "text/plain": [
       "<Figure size 864x432 with 2 Axes>"
      ]
     },
     "metadata": {},
     "output_type": "display_data"
    }
   ],
   "source": [
    "model1 = LinearRegression()\n",
    "model1.fit(X_train, y_train)\n",
    "\n",
    "model2 = LinearRegression()\n",
    "model2.fit(X_train_log, y_train_scaled)\n",
    "\n",
    "# Make predictions using the testing set\n",
    "y_pred = model1.predict(X_test)\n",
    "y_pred_scaled = model2.predict(X_test_log)\n",
    "\n",
    "print('**********Original Data*************')\n",
    "MSE = mean_squared_error(y_test, y_pred)\n",
    "r2 = model1.score(X_test, y_test)\n",
    "\n",
    "print(f\"MSE: {MSE}, R2: {r2}\")\n",
    "\n",
    "print('**********Normalized Data*************')\n",
    "MSE = mean_squared_error(y_test_scaled, y_pred_scaled)\n",
    "r2 = model2.score(X_test_log, y_test_scaled)\n",
    "\n",
    "print(f\"MSE: {MSE}, R2: {r2}\")\n",
    "\n",
    "# Plot outputs\n",
    "\n",
    "fig1 = plt.figure(figsize=(12, 6))\n",
    "axes1 = fig1.add_subplot(1, 2, 1)\n",
    "axes2 = fig1.add_subplot(1, 2, 2)\n",
    "\n",
    "axes1.set_title(\"Original Data Movie Revenue and Average vote\")\n",
    "axes2.set_title(\"Scaled Data Movie Revenue and Average vote\")\n",
    "\n",
    "maxx = X_train[\"revenue\"].max()\n",
    "maxy = y_train.max()\n",
    "\n",
    "\n",
    "def set_axes(ax):\n",
    "    ax.spines['left'].set_position('center')\n",
    "    ax.spines['right'].set_color('none')\n",
    "    ax.spines['bottom'].set_position('center')\n",
    "    ax.spines['top'].set_color('none')\n",
    "    ax.xaxis.set_ticks_position('bottom')\n",
    "    ax.yaxis.set_ticks_position('left')\n",
    "    \n",
    "set_axes(axes1)\n",
    "set_axes(axes1)\n",
    "\n",
    "axes1.scatter(X_train[\"revenue\"], y_train)\n",
    "axes2.scatter(X_train_log[\"revenue\"], y_train_scaled)\n",
    "\n",
    "\n",
    "axes1.plot(X_test, y_pred, color='red', linewidth=3)\n",
    "axes2.plot(X_test_log, y_pred_scaled, color='red', linewidth=3)\n",
    "\n",
    "plt.show()"
   ]
  },
  {
   "cell_type": "markdown",
   "metadata": {},
   "source": [
    "#Linear Regression Runtime explanatory and Budget response"
   ]
  },
  {
   "cell_type": "code",
   "execution_count": 83,
   "metadata": {},
   "outputs": [
    {
     "name": "stdout",
     "output_type": "stream",
     "text": [
      "      runtime\n",
      "0          99\n",
      "1          80\n",
      "2         138\n",
      "4          85\n",
      "5         105\n",
      "6          98\n",
      "7          97\n",
      "12        146\n",
      "13        102\n",
      "14         73\n",
      "16        102\n",
      "17        108\n",
      "19         82\n",
      "22        150\n",
      "23        162\n",
      "30        103\n",
      "31        100\n",
      "32         85\n",
      "34        149\n",
      "40         99\n",
      "43        155\n",
      "48         95\n",
      "49         90\n",
      "53         84\n",
      "55         87\n",
      "60        100\n",
      "62         70\n",
      "63         93\n",
      "64        102\n",
      "65        107\n",
      "...       ...\n",
      "6472      141\n",
      "6473      147\n",
      "6474      140\n",
      "6475      179\n",
      "6476      123\n",
      "6477      143\n",
      "6478      194\n",
      "6479      136\n",
      "6480      142\n",
      "6481      201\n",
      "6482      142\n",
      "6483      169\n",
      "6484      154\n",
      "6485      124\n",
      "6486      178\n",
      "6487      130\n",
      "6488      126\n",
      "6489      136\n",
      "6490      165\n",
      "6491      120\n",
      "6492      142\n",
      "6493      139\n",
      "6494      121\n",
      "6495      165\n",
      "6496      169\n",
      "6497      108\n",
      "6498      143\n",
      "6499      162\n",
      "6500      152\n",
      "6501      148\n",
      "\n",
      "[4992 rows x 1 columns]\n",
      "(4992, 1) (4992, 1)\n"
     ]
    }
   ],
   "source": [
    "# delete entries with zero budget\n",
    "temp_w_budget_and_runtime = temp[temp.budget != 0]\n",
    "temp_w_budget_and_runtime = temp_w_budget_and_runtime[temp_w_budget_and_runtime.runtime !=0]\n",
    "temp_w_budget_and_runtime\n",
    "\n",
    "#Define X as revenue and y as vote_average\n",
    "X = temp_w_budget[[\"runtime\"]]\n",
    "y = temp_w_budget[[\"budget\"]]\n",
    "print(X)\n",
    "print(X.shape, y.shape)"
   ]
  },
  {
   "cell_type": "code",
   "execution_count": 84,
   "metadata": {},
   "outputs": [
    {
     "data": {
      "text/html": [
       "<div>\n",
       "<style scoped>\n",
       "    .dataframe tbody tr th:only-of-type {\n",
       "        vertical-align: middle;\n",
       "    }\n",
       "\n",
       "    .dataframe tbody tr th {\n",
       "        vertical-align: top;\n",
       "    }\n",
       "\n",
       "    .dataframe thead th {\n",
       "        text-align: right;\n",
       "    }\n",
       "</style>\n",
       "<table border=\"1\" class=\"dataframe\">\n",
       "  <thead>\n",
       "    <tr style=\"text-align: right;\">\n",
       "      <th></th>\n",
       "      <th>runtime</th>\n",
       "    </tr>\n",
       "  </thead>\n",
       "  <tbody>\n",
       "    <tr>\n",
       "      <th>5177</th>\n",
       "      <td>104</td>\n",
       "    </tr>\n",
       "    <tr>\n",
       "      <th>5826</th>\n",
       "      <td>130</td>\n",
       "    </tr>\n",
       "    <tr>\n",
       "      <th>4511</th>\n",
       "      <td>105</td>\n",
       "    </tr>\n",
       "    <tr>\n",
       "      <th>2154</th>\n",
       "      <td>123</td>\n",
       "    </tr>\n",
       "    <tr>\n",
       "      <th>1984</th>\n",
       "      <td>93</td>\n",
       "    </tr>\n",
       "  </tbody>\n",
       "</table>\n",
       "</div>"
      ],
      "text/plain": [
       "      runtime\n",
       "5177      104\n",
       "5826      130\n",
       "4511      105\n",
       "2154      123\n",
       "1984       93"
      ]
     },
     "execution_count": 84,
     "metadata": {},
     "output_type": "execute_result"
    }
   ],
   "source": [
    "#Split data into traning and testing data\n",
    "X_train, X_test, y_train, y_test = train_test_split(X, y, random_state=42)\n",
    "\n",
    "X_train.head()"
   ]
  },
  {
   "cell_type": "code",
   "execution_count": 85,
   "metadata": {},
   "outputs": [
    {
     "data": {
      "text/plain": [
       "<function matplotlib.pyplot.show(*args, **kw)>"
      ]
     },
     "execution_count": 85,
     "metadata": {},
     "output_type": "execute_result"
    },
    {
     "data": {
      "image/png": "[encoded data removed]",
      "text/plain": [
       "<Figure size 432x288 with 2 Axes>"
      ]
     },
     "metadata": {},
     "output_type": "display_data"
    }
   ],
   "source": [
    "#Look at data\n",
    "\n",
    "plt.subplot(321)\n",
    "plt.hist(y_train.values, bins=20)\n",
    "plt.title(\"Original Average Vote\")\n",
    "\n",
    "#plt.subplot(322)\n",
    "#plt.hist(y_train_scaled, bins=20)\n",
    "#plt.title(\"Scaled Average Vote\")\n",
    "\n",
    "plt.subplot(325)\n",
    "plt.hist(X_train.values, bins=20)\n",
    "plt.title(\"Original Revenue\")\n",
    "\n",
    "#plt.subplot(326)\n",
    "#plt.hist(X_train_log.values, bins=20)\n",
    "#plt.title(\"Scaled Revenue\")\n",
    "\n",
    "\n",
    "plt.show\n"
   ]
  },
  {
   "cell_type": "code",
   "execution_count": 86,
   "metadata": {},
   "outputs": [],
   "source": [
    "#Get Normalized Data\n",
    "\n",
    "\n",
    "X_scaler = StandardScaler().fit(X_train)\n",
    "\n",
    "X_train_scaled = X_scaler.transform(X_train)\n",
    "X_test_scaled = X_scaler.transform(X_test)\n",
    "\n",
    "y_train_log = np.log(y_train)\n",
    "y_test_log = np.log(y_test)\n",
    "\n"
   ]
  },
  {
   "cell_type": "code",
   "execution_count": 87,
   "metadata": {},
   "outputs": [
    {
     "data": {
      "text/plain": [
       "<function matplotlib.pyplot.show(*args, **kw)>"
      ]
     },
     "execution_count": 87,
     "metadata": {},
     "output_type": "execute_result"
    },
    {
     "data": {
      "image/png": "[encoded data removed]",
      "text/plain": [
       "<Figure size 432x288 with 4 Axes>"
      ]
     },
     "metadata": {},
     "output_type": "display_data"
    }
   ],
   "source": [
    "#Look at data\n",
    "\n",
    "plt.subplot(321)\n",
    "plt.hist(y_train.values, bins=20)\n",
    "plt.title(\"Original budget\")\n",
    "\n",
    "plt.subplot(322)\n",
    "plt.hist(y_train_log.values, bins=20)\n",
    "plt.title(\"Scaled budget\")\n",
    "\n",
    "plt.subplot(325)\n",
    "plt.hist(X_train.values, bins=20)\n",
    "plt.title(\"Original runtime\")\n",
    "\n",
    "plt.subplot(326)\n",
    "plt.hist(X_train_scaled, bins=20)\n",
    "plt.title(\"Scaled runtime\")\n",
    "\n",
    "\n",
    "plt.show\n"
   ]
  },
  {
   "cell_type": "code",
   "execution_count": 90,
   "metadata": {},
   "outputs": [
    {
     "name": "stdout",
     "output_type": "stream",
     "text": [
      "**********Original Data*************\n",
      "MSE: 1648395139444901.8, R2: 0.06036457646402005\n",
      "**********Normalized Data*************\n"
     ]
    },
    {
     "ename": "AttributeError",
     "evalue": "'LinearRegression' object has no attribute 'summary'",
     "output_type": "error",
     "traceback": [
      "\u001b[1;31m---------------------------------------------------------------------------\u001b[0m",
      "\u001b[1;31mAttributeError\u001b[0m                            Traceback (most recent call last)",
      "\u001b[1;32m<ipython-input-90-2c3e385e530e>\u001b[0m in \u001b[0;36m<module>\u001b[1;34m()\u001b[0m\n\u001b[0;32m     18\u001b[0m \u001b[0mMSE\u001b[0m \u001b[1;33m=\u001b[0m \u001b[0mmean_squared_error\u001b[0m\u001b[1;33m(\u001b[0m\u001b[0my_test_log\u001b[0m\u001b[1;33m,\u001b[0m \u001b[0my_pred_log\u001b[0m\u001b[1;33m)\u001b[0m\u001b[1;33m\u001b[0m\u001b[0m\n\u001b[0;32m     19\u001b[0m \u001b[0mr2\u001b[0m \u001b[1;33m=\u001b[0m \u001b[0mmodel2\u001b[0m\u001b[1;33m.\u001b[0m\u001b[0mscore\u001b[0m\u001b[1;33m(\u001b[0m\u001b[0mX_test_scaled\u001b[0m\u001b[1;33m,\u001b[0m \u001b[0my_test_log\u001b[0m\u001b[1;33m)\u001b[0m\u001b[1;33m\u001b[0m\u001b[0m\n\u001b[1;32m---> 20\u001b[1;33m \u001b[0mmodel2\u001b[0m\u001b[1;33m.\u001b[0m\u001b[0msummary\u001b[0m\u001b[1;33m(\u001b[0m\u001b[1;33m)\u001b[0m\u001b[1;33m\u001b[0m\u001b[0m\n\u001b[0m\u001b[0;32m     21\u001b[0m \u001b[1;33m\u001b[0m\u001b[0m\n\u001b[0;32m     22\u001b[0m \u001b[0mprint\u001b[0m\u001b[1;33m(\u001b[0m\u001b[1;34mf\"MSE: {MSE}, R2: {r2}\"\u001b[0m\u001b[1;33m)\u001b[0m\u001b[1;33m\u001b[0m\u001b[0m\n",
      "\u001b[1;31mAttributeError\u001b[0m: 'LinearRegression' object has no attribute 'summary'"
     ]
    }
   ],
   "source": [
    "model1 = LinearRegression()\n",
    "model1.fit(X_train, y_train)\n",
    "\n",
    "model2 = LinearRegression()\n",
    "model2.fit(X_train_scaled, y_train_log)\n",
    "\n",
    "# Make predictions using the testing set\n",
    "y_pred = model1.predict(X_test)\n",
    "y_pred_log = model2.predict(X_test_scaled)\n",
    "\n",
    "print('**********Original Data*************')\n",
    "MSE = mean_squared_error(y_test, y_pred)\n",
    "r2 = model1.score(X_test, y_test)\n",
    "\n",
    "print(f\"MSE: {MSE}, R2: {r2}\")\n",
    "\n",
    "print('**********Normalized Data*************')\n",
    "MSE = mean_squared_error(y_test_log, y_pred_log)\n",
    "r2 = model2.score(X_test_scaled, y_test_log)\n",
    "\n",
    "print(f\"MSE: {MSE}, R2: {r2}\")\n",
    "\n",
    "# Plot outputs\n",
    "\n",
    "fig1 = plt.figure(figsize=(12, 6))\n",
    "axes1 = fig1.add_subplot(1, 2, 1)\n",
    "axes2 = fig1.add_subplot(1, 2, 2)\n",
    "\n",
    "axes1.set_title(\"Original Data Movie Revenue and Average vote\")\n",
    "axes2.set_title(\"Scaled Data Movie Revenue and Average vote\")\n",
    "\n",
    "maxx = X_train[\"runtime\"].max()\n",
    "maxy = y_train.max()\n",
    "\n",
    "\n",
    "def set_axes(ax):\n",
    "    ax.spines['left'].set_position('center')\n",
    "    ax.spines['right'].set_color('none')\n",
    "    ax.spines['bottom'].set_position('center')\n",
    "    ax.spines['top'].set_color('none')\n",
    "    ax.xaxis.set_ticks_position('bottom')\n",
    "    ax.yaxis.set_ticks_position('left')\n",
    "    \n",
    "set_axes(axes1)\n",
    "set_axes(axes2)\n",
    "\n",
    "axes1.scatter(X_train[\"runtime\"], y_train)\n",
    "axes2.scatter(X_train_scaled, y_train_log)\n",
    "\n",
    "\n",
    "axes1.plot(X_test, y_pred, color='red', linewidth=3)\n",
    "axes2.plot(X_test_scaled, y_pred_log, color='red', linewidth=3)\n",
    "\n",
    "plt.show()"
   ]
  }
 ],
 "metadata": {
  "kernelspec": {
   "display_name": "Python 3",
   "language": "python",
   "name": "python3"
  },
  "language_info": {
   "codemirror_mode": {
    "name": "ipython",
    "version": 3
   },
   "file_extension": ".py",
   "mimetype": "text/x-python",
   "name": "python",
   "nbconvert_exporter": "python",
   "pygments_lexer": "ipython3",
   "version": "3.6.5"
  }
 },
 "nbformat": 4,
 "nbformat_minor": 2
}
