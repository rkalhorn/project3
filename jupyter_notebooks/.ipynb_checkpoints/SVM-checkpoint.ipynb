{
 "cells": [
  {
   "cell_type": "markdown",
   "metadata": {},
   "source": [
    "# Support Vector Machine (SVM)\n",
    "\n",
    "### What is it?\n",
    "SVM is a supervised machine learning model used for classification and regression. From what we have found it is mostly used for classification. This algorithm separates data based on categories or outputs the user defines.\n",
    "\n",
    "### When to use it?\n",
    "Thanksome say it is the best algorithm to use. Compared to other algorithms SVM is particulary good in the following situations.\n",
    "1. When the number of features (variables) and number of training data observations are both very large (e.g. millions of features and millions of instances).\n",
    "2) When sparsity in the problem is very high (e.g. most of the features have zero value).\n",
    "It is often used for image classification, gene classsification, drug disambiguation\n",
    "\n",
    "\n",
    "### Limitations?\n",
    "1. Can be hard to understand exactly what is going on with SVM. It is sometimes called a black box. \n",
    "2. It does not give probabilities.\n",
    "3. Can be cumberson for multiclass problems.\n",
    "4. Choosing a good kernel function is difficult.\n",
    "\n",
    "\n",
    "#### For definition of statistics terms visit: http://www.nedarc.org/statisticalHelp/statisticalTermsDictionary.html\n",
    "#### For definitions of machine learning terms visit: https://developers.google.com/machine-learning/glossary/"
   ]
  },
  {
   "cell_type": "code",
   "execution_count": 6,
   "metadata": {},
   "outputs": [],
   "source": [
    "#Bring in dependencies\n",
    "# %matplotlib inline\n",
    "import matplotlib.pyplot as plt\n",
    "import numpy as np\n",
    "import pandas as pd\n",
    "from sklearn.model_selection import train_test_split\n",
    "from sklearn.preprocessing import StandardScaler\n",
    "from sklearn.metrics import mean_squared_error, r2_score\n",
    "from sklearn.metrics import classification_report, confusion_matrix  \n",
    "from sklearn import metrics\n",
    "from sklearn import datasets\n",
    "from sklearn import svm"
   ]
  },
  {
   "cell_type": "code",
   "execution_count": 7,
   "metadata": {},
   "outputs": [
    {
     "name": "stdout",
     "output_type": "stream",
     "text": [
      "Features:  ['mean radius' 'mean texture' 'mean perimeter' 'mean area'\n",
      " 'mean smoothness' 'mean compactness' 'mean concavity'\n",
      " 'mean concave points' 'mean symmetry' 'mean fractal dimension'\n",
      " 'radius error' 'texture error' 'perimeter error' 'area error'\n",
      " 'smoothness error' 'compactness error' 'concavity error'\n",
      " 'concave points error' 'symmetry error' 'fractal dimension error'\n",
      " 'worst radius' 'worst texture' 'worst perimeter' 'worst area'\n",
      " 'worst smoothness' 'worst compactness' 'worst concavity'\n",
      " 'worst concave points' 'worst symmetry' 'worst fractal dimension']\n",
      "Target Outcomes:  ['malignant' 'benign']\n"
     ]
    }
   ],
   "source": [
    "#Load dataset\n",
    "cancer = datasets.load_breast_cancer()\n",
    "\n",
    "\n",
    "#The 13 features used as independent variables\n",
    "cancer_X = cancer.data\n",
    "\n",
    "#The response or dependent variable is a quantitative measure of disease progression one year after baselin\n",
    "cancer_y = cancer.target\n",
    "\n",
    "\n",
    "\n",
    "\n",
    "#We will look at 13 data measurements of breast cancer patients as well as if their tumor was benign or malignant\n",
    "# print the names of the 13 features\n",
    "print(\"Features: \", cancer.feature_names)\n",
    "\n",
    "# print the label type of cancer('malignant' 'benign')\n",
    "print(\"Target Outcomes: \", cancer.target_names)\n"
   ]
  },
  {
   "cell_type": "code",
   "execution_count": 8,
   "metadata": {},
   "outputs": [],
   "source": [
    "# Split dataset into training set and test set\n",
    "X_train, X_test, y_train, y_test = train_test_split(cancer_X, cancer_y, random_state=42) "
   ]
  },
  {
   "cell_type": "code",
   "execution_count": 11,
   "metadata": {},
   "outputs": [],
   "source": [
    "#Create a svm Classifier\n",
    "clf = svm.SVC(kernel='linear') # Linear Kernel\n",
    "\n",
    "#Train the model using the training sets\n",
    "clf.fit(X_train, y_train)\n",
    "\n",
    "# Make predictions using the testing set\n",
    "y_pred = clf.predict(X_test)"
   ]
  },
  {
   "cell_type": "code",
   "execution_count": 13,
   "metadata": {},
   "outputs": [
    {
     "name": "stdout",
     "output_type": "stream",
     "text": [
      "Accuracy: 0.958041958041958\n"
     ]
    }
   ],
   "source": [
    "# Model Accuracy: how often is the classifier correct for the testing data?\n",
    "print(\"Accuracy:\",metrics.accuracy_score(y_test, y_pred))"
   ]
  }
 ],
 "metadata": {
  "kernelspec": {
   "display_name": "Python 3",
   "language": "python",
   "name": "python3"
  },
  "language_info": {
   "codemirror_mode": {
    "name": "ipython",
    "version": 3
   },
   "file_extension": ".py",
   "mimetype": "text/x-python",
   "name": "python",
   "nbconvert_exporter": "python",
   "pygments_lexer": "ipython3",
   "version": "3.6.5"
  }
 },
 "nbformat": 4,
 "nbformat_minor": 2
}
