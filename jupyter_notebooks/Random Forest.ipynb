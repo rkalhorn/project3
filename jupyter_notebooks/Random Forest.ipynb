{
 "cells": [
  {
   "cell_type": "markdown",
   "metadata": {},
   "source": [
    "# Random Forest\n",
    "\n",
    "### What is it?\n",
    "Random forest is a supervised machine learning algorithm used for both classification and regression. This method constructs many iterations of decision trees and either chooses the mode of the classes in the case of classification, or mean prediction in the case of regression.\n",
    "\n",
    "\n",
    "### When to use it?\n",
    "Random forest can be used in many situations. Since it is pretty much the same as decision trees, it can be used whenever decision trees can be used. \n",
    "\n",
    "\n",
    "### Limitations?\n",
    "This process can be slow and not practical for real time decision making. While they are fast to train, they are slow to predict. More accuracy means more trees means more time. If runtime is important than another method would likely be preferred. \n",
    "\n",
    "\n",
    "#### For definition of statistics terms visit: http://www.nedarc.org/statisticalHelp/statisticalTermsDictionary.html\n",
    "#### For definitions of machine learning terms visit: https://developers.google.com/machine-learning/glossary/"
   ]
  }
 ],
 "metadata": {
  "kernelspec": {
   "display_name": "Python 3",
   "language": "python",
   "name": "python3"
  },
  "language_info": {
   "codemirror_mode": {
    "name": "ipython",
    "version": 3
   },
   "file_extension": ".py",
   "mimetype": "text/x-python",
   "name": "python",
   "nbconvert_exporter": "python",
   "pygments_lexer": "ipython3",
   "version": "3.6.5"
  }
 },
 "nbformat": 4,
 "nbformat_minor": 2
}
